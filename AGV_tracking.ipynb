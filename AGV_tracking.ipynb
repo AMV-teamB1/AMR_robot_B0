{
 "cells": [
  {
   "cell_type": "code",
   "execution_count": 1,
   "id": "conscious-concentrate",
   "metadata": {},
   "outputs": [],
   "source": [
    "from jetbot import Camera, bgr8_to_jpeg\n",
    "import traitlets\n",
    "import ipywidgets as widgets\n",
    "from IPython.display import display\n",
    "import cv2\n",
    "import numpy as np\n",
    "from PIL import Image\n",
    "from io import BytesIO\n",
    "import time\n",
    "from jetbot import Robot\n"
   ]
  },
  {
   "cell_type": "code",
   "execution_count": 2,
   "id": "statewide-topic",
   "metadata": {},
   "outputs": [],
   "source": [
    "camera = Camera.instance()\n",
    "camera.stop()\n",
    "camera = Camera.instance()\n",
    "robot = Robot()\n",
    "# 創建 Image 小工具，設置寬度和高度\n",
    "image_widget = widgets.Image(format='jpeg', width=600, height=600)\n",
    "\n",
    "binary_widget = widgets.Image(format='jpeg', width=600, height=600)\n",
    "\n",
    "binary_ball_widget = widgets.Image(format='jpeg', width=600, height=600)\n",
    "\n",
    "\n",
    "\n",
    "# 設定 ROI 的位置和大小\n",
    "roi_x, roi_y, roi_w, roi_h = 100, 100, 10, 10 \n",
    "\n",
    "mean_label = widgets.Label()\n"
   ]
  },
  {
   "cell_type": "code",
   "execution_count": 3,
   "id": "selective-regression",
   "metadata": {},
   "outputs": [],
   "source": [
    "# Default 值都設定好了\n",
    "r_lower = widgets.IntSlider(min=0, max=255, value=145, description='R Lower')\n",
    "r_upper = widgets.IntSlider(min=0, max=255, value=255, description='R Upper')\n",
    "g_lower = widgets.IntSlider(min=0, max=255, value=160, description='G Lower')\n",
    "g_upper = widgets.IntSlider(min=0, max=255, value=255, description='G Upper')\n",
    "b_lower = widgets.IntSlider(min=0, max=255, value=0, description='B Lower')\n",
    "b_upper = widgets.IntSlider(min=0, max=255, value=150, description='B Upper')\n",
    "\n",
    "r_lower_ball = widgets.IntSlider(min=0, max=255, value=160, description='R Lower (ball)')\n",
    "r_upper_ball = widgets.IntSlider(min=0, max=255, value=255, description='R Upper (ball)')\n",
    "g_lower_ball = widgets.IntSlider(min=0, max=255, value=50, description='G Lower (ball)')\n",
    "g_upper_ball = widgets.IntSlider(min=0, max=255, value=130, description='G Upper (ball)')\n",
    "b_lower_ball = widgets.IntSlider(min=0, max=255, value=0, description='B Lower (ball)')\n",
    "b_upper_ball = widgets.IntSlider(min=0, max=255, value=130, description='B Upper (ball)')\n",
    "\n",
    "# 創建最小和最大面積閾值的滑桿\n",
    "min_area_slider = widgets.IntSlider(value=500, min=0, max=10000, step=50, description='最小面積')\n",
    "max_area_slider = widgets.IntSlider(value=5000, min=0, max=20000, step=50, description='最大面積')\n",
    "tracking_toggle = widgets.ToggleButton(value=False, description='啟用尋跡', button_style='success')\n",
    "\n"
   ]
  },
  {
   "cell_type": "code",
   "execution_count": 4,
   "id": "breathing-foster",
   "metadata": {},
   "outputs": [],
   "source": [
    "def sign(input):\n",
    "    return input / abs(input) if input != 0 else 0  # 避免除以 0\n",
    "\n",
    "def maxNum(input):\n",
    "    if abs(input) > 100:\n",
    "        return 100 * sign(input)\n",
    "    else:\n",
    "        return input\n",
    "\n",
    "def SpeedControl(s_in, d_in):\n",
    "    L = R = 0\n",
    "    S = maxNum(s_in) \n",
    "    D = maxNum(d_in)/2\n",
    "    \n",
    "\n",
    "    L = S + D\n",
    "    R = S - D\n",
    "\n",
    "    L = maxNum(L)\n",
    "    R = maxNum(R)\n",
    "    L = L / 100\n",
    "    R = R / 100\n",
    "\n",
    "    robot.set_motors(L, R)\n",
    "    return (L, R)"
   ]
  },
  {
   "cell_type": "code",
   "execution_count": 5,
   "id": "passive-conference",
   "metadata": {},
   "outputs": [],
   "source": [
    "frame_count = 0\n",
    "process_every_n_frames = 5  # 每處理 1 幀影像\n",
    "process_ball_every_n_frames = 8  # 每處理 1 幀影像\n",
    "track_ball = False\n",
    "s_in = 22 # 固定前進速度\n",
    "tick = 0\n",
    "\n",
    "def update_images(change):\n",
    "    global frame_count, flag, tick\n",
    "    frame_count += 1\n",
    "    if frame_count % process_ball_every_n_frames == 0:\n",
    "        track_ball = True\n",
    "    elif frame_count % process_every_n_frames == 0:\n",
    "        track_ball = False\n",
    "    else:\n",
    "        return\n",
    "    if tick > 0:\n",
    "#         print(area)\n",
    "        tick -= 1\n",
    "        return\n",
    "        \n",
    "    frame = change['new']\n",
    "    \n",
    "    # 將影像轉換為 BGR 格式\n",
    "    bgr_frame = cv2.cvtColor(frame, cv2.COLOR_RGB2BGR)\n",
    "    \n",
    "    # 計算 ROI 的平均 RGB 值\n",
    "    height, width, _ = bgr_frame.shape\n",
    "    \n",
    "    roi_frame = frame[roi_y:roi_y + roi_h, roi_x:roi_x + roi_w]\n",
    "    mean_rgb = roi_frame.mean(axis=(0, 1))\n",
    "    r_mean = mean_rgb[2]\n",
    "    g_mean = mean_rgb[1]\n",
    "    b_mean = mean_rgb[0]\n",
    "    mean_label.value = f\"ROI 平均 RGB 值：R={r_mean:.2f}, G={g_mean:.2f}, B={b_mean:.2f}\"\n",
    "\n",
    "    if track_ball:\n",
    "        # 篩選紅色區域\n",
    "        lower_rgb = np.array([b_lower_ball.value, g_lower_ball.value, r_lower_ball.value])\n",
    "        upper_rgb = np.array([b_upper_ball.value, g_upper_ball.value, r_upper_ball.value])\n",
    "    else:\n",
    "        # 篩選黃色區域\n",
    "        lower_rgb = np.array([b_lower.value, g_lower.value, r_lower.value])\n",
    "        upper_rgb = np.array([b_upper.value, g_upper.value, r_upper.value])\n",
    "        \n",
    "    mask = cv2.inRange(frame, lower_rgb, upper_rgb)\n",
    "    \n",
    "    # 找出所有輪廓\n",
    "    contours, _ = cv2.findContours(mask, cv2.RETR_EXTERNAL, cv2.CHAIN_APPROX_SIMPLE)\n",
    "    \n",
    "    # 最小面積過濾\n",
    "    min_area = min_area_slider.value\n",
    "    closest_centroid = None\n",
    "    closest_distance = float('inf')\n",
    "    frame_center_x = frame.shape[1] // 2  # 影像中間的 x 坐標\n",
    "    \n",
    "    if contours:\n",
    "        largest_cnt = max(contours, key=cv2.contourArea)\n",
    "        area = cv2.contourArea(largest_cnt)\n",
    "        M = cv2.moments(largest_cnt)\n",
    "        \n",
    "        if track_ball and tracking_toggle.value:\n",
    "#         if track_ball:\n",
    "#             tick = 3\n",
    "            \n",
    "            if area > 900:\n",
    "                tick = 5\n",
    "                print(area)\n",
    "                print(\"hi\")\n",
    "                \n",
    "                SpeedControl(-1 * s_in,0)\n",
    "                time.sleep(0.8) # \n",
    "                SpeedControl(0,24)\n",
    "                time.sleep(1) # \n",
    "                SpeedControl(s_in,0)\n",
    "                time.sleep(1.5) # \n",
    "                SpeedControl(0,-24)\n",
    "                time.sleep(2.2) # \n",
    "                SpeedControl(s_in,0)\n",
    "                time.sleep(1.5) # \n",
    "                SpeedControl(0,24)\n",
    "                time.sleep(2.2) # \n",
    "                SpeedControl(0,0)\n",
    "\n",
    "        \n",
    "\n",
    "\n",
    "#                 pass\n",
    "        elif M['m00'] != 0:\n",
    "            cx = int(M['m10'] / M['m00'])\n",
    "            cy = int(M['m01'] / M['m00'])\n",
    "            closest_centroid = (cx, cy)\n",
    "            error = cx - frame_center_x\n",
    "            d_in = (error / frame.shape[1]) * 100  # 標準化誤差作為旋轉速度\n",
    "\n",
    "            if tracking_toggle.value:\n",
    "                SpeedControl(s_in, d_in)\n",
    "\n",
    "        # 在影像上畫出黃色區域中心點\n",
    "        bgr_frame = cv2.cvtColor(frame, cv2.COLOR_RGB2BGR)\n",
    "        if closest_centroid:\n",
    "            cv2.circle(bgr_frame, closest_centroid, 5, (0, 255, 0), -1)\n",
    "            cv2.putText(bgr_frame, f\"({closest_centroid[0]}, {closest_centroid[1]})\", \n",
    "                    (closest_centroid[0] + 10, closest_centroid[1] - 10), \n",
    "                    cv2.FONT_HERSHEY_SIMPLEX, 0.5, (0, 255, 0), 1)\n",
    "\n",
    "    \n",
    "    # 顯示原始影像與二值化影像\n",
    "    cv2.rectangle(bgr_frame, (roi_x, roi_y), (roi_x + roi_w, roi_y + roi_h), (0, 0, 255), 2)\n",
    "    _, frame_encoded = cv2.imencode('.jpg', cv2.cvtColor(bgr_frame, cv2.COLOR_BGR2RGB))\n",
    "    image_widget.value = frame_encoded.tobytes()\n",
    "    \n",
    "    \n",
    "    mask_rgb = cv2.cvtColor(mask, cv2.COLOR_GRAY2RGB)\n",
    "    _, binary_encoded = cv2.imencode('.jpg', mask_rgb)\n",
    "    if track_ball:\n",
    "        binary_ball_widget.value = binary_encoded.tobytes()\n",
    "    else:\n",
    "        binary_widget.value = binary_encoded.tobytes()\n",
    "        \n",
    "\n"
   ]
  },
  {
   "cell_type": "code",
   "execution_count": 6,
   "id": "clear-relationship",
   "metadata": {},
   "outputs": [],
   "source": [
    "camera.observe(update_images, names='value')"
   ]
  },
  {
   "cell_type": "code",
   "execution_count": 7,
   "id": "express-columbia",
   "metadata": {},
   "outputs": [
    {
     "data": {
      "application/vnd.jupyter.widget-view+json": {
       "model_id": "50eb1866696e485db4d3410c383ec8df",
       "version_major": 2,
       "version_minor": 0
      },
      "text/plain": [
       "HBox(children=(Image(value=b'', format='jpeg', height='600', width='600'), Image(value=b'', format='jpeg', hei…"
      ]
     },
     "metadata": {},
     "output_type": "display_data"
    },
    {
     "data": {
      "application/vnd.jupyter.widget-view+json": {
       "model_id": "4bd15574e12a4784b713c529ba0d03df",
       "version_major": 2,
       "version_minor": 0
      },
      "text/plain": [
       "Label(value='')"
      ]
     },
     "metadata": {},
     "output_type": "display_data"
    }
   ],
   "source": [
    "display(widgets.HBox([image_widget,binary_widget,binary_ball_widget]),mean_label)\n"
   ]
  },
  {
   "cell_type": "code",
   "execution_count": 8,
   "id": "cooperative-meaning",
   "metadata": {},
   "outputs": [],
   "source": [
    "# 顯示控制項\n",
    "# display(widgets.VBox([b_lower_ball, b_upper_ball, g_lower_ball, g_upper_ball, r_lower_ball, r_upper_ball]))\n"
   ]
  },
  {
   "cell_type": "code",
   "execution_count": 9,
   "id": "elect-muslim",
   "metadata": {},
   "outputs": [
    {
     "data": {
      "application/vnd.jupyter.widget-view+json": {
       "model_id": "d1f278a5ad2447508cf3f5f2b102de65",
       "version_major": 2,
       "version_minor": 0
      },
      "text/plain": [
       "VBox(children=(IntSlider(value=500, description='最小面積', max=10000, step=50), ToggleButton(value=False, button_…"
      ]
     },
     "metadata": {},
     "output_type": "display_data"
    }
   ],
   "source": [
    "# 顯示控制項\n",
    "# display(widgets.VBox([b_lower, b_upper, g_lower, g_upper, r_lower, r_upper, min_area_slider, tracking_toggle]))\n",
    "display(widgets.VBox([min_area_slider, tracking_toggle]))\n"
   ]
  },
  {
   "cell_type": "code",
   "execution_count": 10,
   "id": "honest-stereo",
   "metadata": {},
   "outputs": [],
   "source": [
    "camera.stop()\n",
    "robot.stop()"
   ]
  },
  {
   "cell_type": "code",
   "execution_count": null,
   "id": "elegant-brown",
   "metadata": {},
   "outputs": [],
   "source": []
  },
  {
   "cell_type": "code",
   "execution_count": null,
   "id": "developmental-heavy",
   "metadata": {},
   "outputs": [],
   "source": []
  }
 ],
 "metadata": {
  "kernelspec": {
   "display_name": "Python 3",
   "language": "python",
   "name": "python3"
  },
  "language_info": {
   "codemirror_mode": {
    "name": "ipython",
    "version": 3
   },
   "file_extension": ".py",
   "mimetype": "text/x-python",
   "name": "python",
   "nbconvert_exporter": "python",
   "pygments_lexer": "ipython3",
   "version": "3.6.9"
  }
 },
 "nbformat": 4,
 "nbformat_minor": 5
}
